{
 "cells": [
  {
   "cell_type": "markdown",
   "id": "dfc6a8ab-5ace-4f6c-a9ad-367d796fffb4",
   "metadata": {},
   "source": [
    "# INFO-555 Project3\n",
    "## Kiwoon Hong"
   ]
  },
  {
   "cell_type": "markdown",
   "id": "9c384177-7a40-4613-951b-d54e7c54cd84",
   "metadata": {},
   "source": [
    "## Import Libraries"
   ]
  },
  {
   "cell_type": "code",
   "execution_count": null,
   "id": "30be8a66-5aae-4cbc-a182-ec35be9ae212",
   "metadata": {},
   "outputs": [],
   "source": [
    "pip install openai datasets ipywidgets"
   ]
  },
  {
   "cell_type": "code",
   "execution_count": null,
   "id": "166566f6-4004-4040-9748-812b779df8a7",
   "metadata": {},
   "outputs": [],
   "source": [
    "pip install --upgrade --quiet langchain-exa"
   ]
  },
  {
   "cell_type": "code",
   "execution_count": 1,
   "id": "327a371b-20c2-4b1c-845d-ab3eba385b4e",
   "metadata": {},
   "outputs": [],
   "source": [
    "import pandas as pd\n",
    "from datasets import load_dataset\n",
    "from openai import OpenAI\n",
    "from exa_py import Exa\n",
    "from langchain_core.tools import tool\n",
    "import os\n",
    "import seaborn as sns\n",
    "from sklearn.metrics import accuracy_score, f1_score"
   ]
  },
  {
   "cell_type": "markdown",
   "id": "267bb6d1-6e9b-497b-881c-4a8a7523983f",
   "metadata": {},
   "source": [
    "## Load Data"
   ]
  },
  {
   "cell_type": "code",
   "execution_count": 2,
   "id": "14f99135-fa9d-4675-bece-1cb1556dfd4c",
   "metadata": {},
   "outputs": [],
   "source": [
    "### START OF CODE FROM EXTERNAL SOURCE (URL: https://huggingface.co/datasets/GonzaloA/fake_news?library=pandas)\n",
    "splits = {'train': 'data/train-00000-of-00001.parquet', 'validation': 'data/validation-00000-of-00001.parquet', 'test': 'data/test-00000-of-00001.parquet'}\n",
    "df = pd.read_parquet(\"hf://datasets/GonzaloA/fake_news/\" + splits[\"train\"])\n",
    "### END OF CODE FROM EXTERNAL SOURCE (https://huggingface.co/datasets/GonzaloA/fake_news?library=pandas)\n",
    "df_val = pd.read_parquet(\"hf://datasets/GonzaloA/fake_news/\" + splits[\"validation\"])\n",
    "df_test = pd.read_parquet(\"hf://datasets/GonzaloA/fake_news/\" + splits[\"test\"])"
   ]
  },
  {
   "cell_type": "markdown",
   "id": "c6a99ff3-8b6b-4157-b322-854ea5b5fad2",
   "metadata": {},
   "source": [
    "## EDA"
   ]
  },
  {
   "cell_type": "code",
   "execution_count": 3,
   "id": "d45522b6-94ce-4236-84b3-f2d4b63ee0a2",
   "metadata": {},
   "outputs": [
    {
     "data": {
      "text/html": [
       "<div>\n",
       "<style scoped>\n",
       "    .dataframe tbody tr th:only-of-type {\n",
       "        vertical-align: middle;\n",
       "    }\n",
       "\n",
       "    .dataframe tbody tr th {\n",
       "        vertical-align: top;\n",
       "    }\n",
       "\n",
       "    .dataframe thead th {\n",
       "        text-align: right;\n",
       "    }\n",
       "</style>\n",
       "<table border=\"1\" class=\"dataframe\">\n",
       "  <thead>\n",
       "    <tr style=\"text-align: right;\">\n",
       "      <th></th>\n",
       "      <th>Unnamed: 0</th>\n",
       "      <th>title</th>\n",
       "      <th>text</th>\n",
       "      <th>label</th>\n",
       "    </tr>\n",
       "  </thead>\n",
       "  <tbody>\n",
       "    <tr>\n",
       "      <th>0</th>\n",
       "      <td>0</td>\n",
       "      <td>‘Maury’ Show Official Facebook Posts F*CKED U...</td>\n",
       "      <td>Maury is perhaps one of the trashiest shows on...</td>\n",
       "      <td>0</td>\n",
       "    </tr>\n",
       "    <tr>\n",
       "      <th>1</th>\n",
       "      <td>1</td>\n",
       "      <td>Trump’s Favorite News Channel Tries To Soothe...</td>\n",
       "      <td>Yesterday, after the father of one of the UCLA...</td>\n",
       "      <td>0</td>\n",
       "    </tr>\n",
       "    <tr>\n",
       "      <th>2</th>\n",
       "      <td>2</td>\n",
       "      <td>Russia warns Iraq, Kurds not to destabilize Mi...</td>\n",
       "      <td>MOSCOW (Reuters) - Russia on Wednesday warned ...</td>\n",
       "      <td>1</td>\n",
       "    </tr>\n",
       "    <tr>\n",
       "      <th>3</th>\n",
       "      <td>3</td>\n",
       "      <td>WATCH STEVE SCALISE Throw A Strike At The Nati...</td>\n",
       "      <td>House Majority Whip Steve Scalise (R., La.) th...</td>\n",
       "      <td>0</td>\n",
       "    </tr>\n",
       "    <tr>\n",
       "      <th>4</th>\n",
       "      <td>4</td>\n",
       "      <td>Trump Will HATE What Stephen Colbert Just Did...</td>\n",
       "      <td>It can be said that Late Show host Stephen Col...</td>\n",
       "      <td>0</td>\n",
       "    </tr>\n",
       "  </tbody>\n",
       "</table>\n",
       "</div>"
      ],
      "text/plain": [
       "   Unnamed: 0                                              title  \\\n",
       "0           0   ‘Maury’ Show Official Facebook Posts F*CKED U...   \n",
       "1           1   Trump’s Favorite News Channel Tries To Soothe...   \n",
       "2           2  Russia warns Iraq, Kurds not to destabilize Mi...   \n",
       "3           3  WATCH STEVE SCALISE Throw A Strike At The Nati...   \n",
       "4           4   Trump Will HATE What Stephen Colbert Just Did...   \n",
       "\n",
       "                                                text  label  \n",
       "0  Maury is perhaps one of the trashiest shows on...      0  \n",
       "1  Yesterday, after the father of one of the UCLA...      0  \n",
       "2  MOSCOW (Reuters) - Russia on Wednesday warned ...      1  \n",
       "3  House Majority Whip Steve Scalise (R., La.) th...      0  \n",
       "4  It can be said that Late Show host Stephen Col...      0  "
      ]
     },
     "execution_count": 3,
     "metadata": {},
     "output_type": "execute_result"
    }
   ],
   "source": [
    "df.head()"
   ]
  },
  {
   "cell_type": "code",
   "execution_count": 4,
   "id": "57424242-195b-4ae1-bf2a-99be29bc2ddc",
   "metadata": {},
   "outputs": [
    {
     "data": {
      "text/plain": [
       "label\n",
       "1    13195\n",
       "0    11158\n",
       "Name: count, dtype: int64"
      ]
     },
     "execution_count": 4,
     "metadata": {},
     "output_type": "execute_result"
    }
   ],
   "source": [
    "df['label'].value_counts()"
   ]
  },
  {
   "cell_type": "code",
   "execution_count": 5,
   "id": "e17fee50-aaec-44ca-8e76-83b96d7c8f8a",
   "metadata": {},
   "outputs": [
    {
     "name": "stdout",
     "output_type": "stream",
     "text": [
      "<class 'pandas.core.frame.DataFrame'>\n",
      "RangeIndex: 24353 entries, 0 to 24352\n",
      "Data columns (total 4 columns):\n",
      " #   Column      Non-Null Count  Dtype \n",
      "---  ------      --------------  ----- \n",
      " 0   Unnamed: 0  24353 non-null  int64 \n",
      " 1   title       24353 non-null  object\n",
      " 2   text        24353 non-null  object\n",
      " 3   label       24353 non-null  int64 \n",
      "dtypes: int64(2), object(2)\n",
      "memory usage: 761.2+ KB\n",
      "\n",
      "<class 'pandas.core.frame.DataFrame'>\n",
      "RangeIndex: 8117 entries, 0 to 8116\n",
      "Data columns (total 4 columns):\n",
      " #   Column      Non-Null Count  Dtype \n",
      "---  ------      --------------  ----- \n",
      " 0   Unnamed: 0  8117 non-null   int64 \n",
      " 1   title       8117 non-null   object\n",
      " 2   text        8117 non-null   object\n",
      " 3   label       8117 non-null   int64 \n",
      "dtypes: int64(2), object(2)\n",
      "memory usage: 253.8+ KB\n",
      "\n",
      "<class 'pandas.core.frame.DataFrame'>\n",
      "RangeIndex: 8117 entries, 0 to 8116\n",
      "Data columns (total 4 columns):\n",
      " #   Column      Non-Null Count  Dtype \n",
      "---  ------      --------------  ----- \n",
      " 0   Unnamed: 0  8117 non-null   int64 \n",
      " 1   title       8117 non-null   object\n",
      " 2   text        8117 non-null   object\n",
      " 3   label       8117 non-null   int64 \n",
      "dtypes: int64(2), object(2)\n",
      "memory usage: 253.8+ KB\n"
     ]
    }
   ],
   "source": [
    "df.info()\n",
    "print()\n",
    "df_val.info()\n",
    "print()\n",
    "df_test.info()"
   ]
  },
  {
   "cell_type": "markdown",
   "id": "051eabac-a3e6-41fd-b29b-25f5b36569d5",
   "metadata": {},
   "source": [
    "## Sampling"
   ]
  },
  {
   "cell_type": "code",
   "execution_count": 6,
   "id": "a9fc5932-10d9-45bd-82ea-3b4dc5dfd629",
   "metadata": {},
   "outputs": [],
   "source": [
    "sampled_df = df.sample(500, random_state = 97).reset_index(drop = True)"
   ]
  },
  {
   "cell_type": "code",
   "execution_count": 7,
   "id": "dc375a00-9271-47c2-85e9-576ba211924f",
   "metadata": {},
   "outputs": [
    {
     "data": {
      "text/html": [
       "<div>\n",
       "<style scoped>\n",
       "    .dataframe tbody tr th:only-of-type {\n",
       "        vertical-align: middle;\n",
       "    }\n",
       "\n",
       "    .dataframe tbody tr th {\n",
       "        vertical-align: top;\n",
       "    }\n",
       "\n",
       "    .dataframe thead th {\n",
       "        text-align: right;\n",
       "    }\n",
       "</style>\n",
       "<table border=\"1\" class=\"dataframe\">\n",
       "  <thead>\n",
       "    <tr style=\"text-align: right;\">\n",
       "      <th></th>\n",
       "      <th>Unnamed: 0</th>\n",
       "      <th>title</th>\n",
       "      <th>text</th>\n",
       "      <th>label</th>\n",
       "    </tr>\n",
       "  </thead>\n",
       "  <tbody>\n",
       "    <tr>\n",
       "      <th>0</th>\n",
       "      <td>8215</td>\n",
       "      <td>REPORT: Chaos Reigns Inside The White House A...</td>\n",
       "      <td>Donald Trump can t handle the complexity of ru...</td>\n",
       "      <td>0</td>\n",
       "    </tr>\n",
       "    <tr>\n",
       "      <th>1</th>\n",
       "      <td>4034</td>\n",
       "      <td>Exclusive: U.S. to renew most Myanmar sanction...</td>\n",
       "      <td>WASHINGTON (Reuters) - The United States plans...</td>\n",
       "      <td>1</td>\n",
       "    </tr>\n",
       "    <tr>\n",
       "      <th>2</th>\n",
       "      <td>3011</td>\n",
       "      <td>Anti-Trump Protester Surrounded By Mexican Fla...</td>\n",
       "      <td>It was actually refreshing to see the cops fig...</td>\n",
       "      <td>0</td>\n",
       "    </tr>\n",
       "    <tr>\n",
       "      <th>3</th>\n",
       "      <td>2151</td>\n",
       "      <td>At least 12 dead in bus crash on excursion to ...</td>\n",
       "      <td>MEXICO CITY (Reuters) - Twelve people died and...</td>\n",
       "      <td>1</td>\n",
       "    </tr>\n",
       "    <tr>\n",
       "      <th>4</th>\n",
       "      <td>5588</td>\n",
       "      <td>Fight over electoral district boundaries heads...</td>\n",
       "      <td>WASHINGTON (Reuters) - It is a political pract...</td>\n",
       "      <td>1</td>\n",
       "    </tr>\n",
       "  </tbody>\n",
       "</table>\n",
       "</div>"
      ],
      "text/plain": [
       "   Unnamed: 0                                              title  \\\n",
       "0        8215   REPORT: Chaos Reigns Inside The White House A...   \n",
       "1        4034  Exclusive: U.S. to renew most Myanmar sanction...   \n",
       "2        3011  Anti-Trump Protester Surrounded By Mexican Fla...   \n",
       "3        2151  At least 12 dead in bus crash on excursion to ...   \n",
       "4        5588  Fight over electoral district boundaries heads...   \n",
       "\n",
       "                                                text  label  \n",
       "0  Donald Trump can t handle the complexity of ru...      0  \n",
       "1  WASHINGTON (Reuters) - The United States plans...      1  \n",
       "2  It was actually refreshing to see the cops fig...      0  \n",
       "3  MEXICO CITY (Reuters) - Twelve people died and...      1  \n",
       "4  WASHINGTON (Reuters) - It is a political pract...      1  "
      ]
     },
     "execution_count": 7,
     "metadata": {},
     "output_type": "execute_result"
    }
   ],
   "source": [
    "sampled_df.head()"
   ]
  },
  {
   "cell_type": "code",
   "execution_count": 8,
   "id": "6f9d8e8b-85a3-47c8-923f-fda40f63909f",
   "metadata": {},
   "outputs": [
    {
     "data": {
      "text/plain": [
       "label\n",
       "1    251\n",
       "0    249\n",
       "Name: count, dtype: int64"
      ]
     },
     "execution_count": 8,
     "metadata": {},
     "output_type": "execute_result"
    }
   ],
   "source": [
    "sampled_df['label'].value_counts()"
   ]
  },
  {
   "cell_type": "code",
   "execution_count": 9,
   "id": "cff4cbfe-ff24-4707-953b-ca53e8e978fe",
   "metadata": {},
   "outputs": [
    {
     "name": "stdout",
     "output_type": "stream",
     "text": [
      "<class 'pandas.core.frame.DataFrame'>\n",
      "RangeIndex: 500 entries, 0 to 499\n",
      "Data columns (total 4 columns):\n",
      " #   Column      Non-Null Count  Dtype \n",
      "---  ------      --------------  ----- \n",
      " 0   Unnamed: 0  500 non-null    int64 \n",
      " 1   title       500 non-null    object\n",
      " 2   text        500 non-null    object\n",
      " 3   label       500 non-null    int64 \n",
      "dtypes: int64(2), object(2)\n",
      "memory usage: 15.8+ KB\n"
     ]
    }
   ],
   "source": [
    "sampled_df.info()"
   ]
  },
  {
   "cell_type": "markdown",
   "id": "2ffd71b0-60f7-4d12-abc3-4844fc043807",
   "metadata": {},
   "source": [
    "## Export an environment variable in PowerShell\n",
    "`setx OPENAI_API_KEY \"your_api_key_here\"`"
   ]
  },
  {
   "cell_type": "markdown",
   "id": "4b000d8c-0d32-4669-a429-ba4d0e08e7d4",
   "metadata": {},
   "source": [
    "## Baseline_model: Pretrained Model(gpt-4o-mini)\n"
   ]
  },
  {
   "cell_type": "code",
   "execution_count": 10,
   "id": "448955bc-58ae-4701-acaf-f89f69aaa24b",
   "metadata": {},
   "outputs": [],
   "source": [
    "### START OF CODE FROM EXTERNAL SOURCE (URL: https://platform.openai.com/docs/quickstart?quickstart-example=completions)\n",
    "client = OpenAI()\n",
    "\n",
    "def fake_news_detect(title, text):\n",
    "    response = client.chat.completions.create(\n",
    "        model = 'gpt-4o-mini',\n",
    "        messages=[\n",
    "### END OF CODE FROM EXTERNAL SOURCE (URL: https://platform.openai.com/docs/quickstart?quickstart-example=completions)\n",
    "            {\n",
    "                \"role\": \"system\",\n",
    "                \"content\": \"You're an expert in fake news detection. I'll give you the title and text of the news, respond only with fake or real.\"\n",
    "            },\n",
    "            {\n",
    "                \"role\": \"user\",\n",
    "                \"content\": f\"Determine if this article is fake:\\nTitle:{title}, \\ntext:{text}\"\n",
    "            }\n",
    "        ]\n",
    "    )\n",
    "    return response.choices[0].message.content"
   ]
  },
  {
   "cell_type": "code",
   "execution_count": 11,
   "id": "a7fb17fe-419a-40db-a17a-d6e1ba091b67",
   "metadata": {},
   "outputs": [
    {
     "data": {
      "text/plain": [
       "'Fake'"
      ]
     },
     "execution_count": 11,
     "metadata": {},
     "output_type": "execute_result"
    }
   ],
   "source": [
    "# Test\n",
    "fake_news_detect(sampled_df['title'][0], sampled_df['text'][0])"
   ]
  },
  {
   "cell_type": "markdown",
   "id": "078e85c8-8a7c-41d0-becd-d89e238de5b9",
   "metadata": {},
   "source": [
    "## Experiment_Model: RAG"
   ]
  },
  {
   "cell_type": "code",
   "execution_count": 18,
   "id": "731a1398-1160-4c71-a8c9-43d41ebdbbfe",
   "metadata": {},
   "outputs": [],
   "source": [
    "### START OF CODE FROM EXTERNAL SOURCE (URL: https://python.langchain.com/docs/integrations/tools/exa_search/)\n",
    "exa = Exa(api_key=\"Your API code here\")\n",
    "def search_and_contents(query: str):\n",
    "    return exa.search_and_contents(\n",
    "        query, use_autoprompt=True, num_results=3, text=True, highlights=True\n",
    "    )\n",
    "### END OF CODE FROM EXTERNAL SOURCE (URL: https://python.langchain.com/docs/integrations/tools/exa_search/)"
   ]
  },
  {
   "cell_type": "code",
   "execution_count": 20,
   "id": "1ae75ec0-4d7a-4a42-bcbf-2419a21fb453",
   "metadata": {},
   "outputs": [],
   "source": [
    "### START OF CODE FROM EXTERNAL SOURCE (URL: https://platform.openai.com/docs/quickstart?quickstart-example=completions)\n",
    "client = OpenAI()\n",
    "\n",
    "def fake_news_detect_rag(title, text):\n",
    "    result = search_and_contents(title)\n",
    "    response = client.chat.completions.create(\n",
    "        model = 'gpt-4o-mini',\n",
    "        messages=[\n",
    "### END OF CODE FROM EXTERNAL SOURCE (URL: https://platform.openai.com/docs/quickstart?quickstart-example=completions)\n",
    "            {\n",
    "                \"role\": \"system\",\n",
    "                \"content\": \"\"\"You're an expert in fake news detection. \n",
    "                I'll give you the title and news search results. \n",
    "                If the result is blank, it means there are no results on the web for that title.\n",
    "                If the result is not empty, it's likely true, but be sure to check the content.\n",
    "                Respond only with fake or real.\"\"\"\n",
    "            },\n",
    "            {\n",
    "                \"role\": \"user\",\n",
    "                \"content\": f\"Determine if this article is fake:\\nTitle:{title}, \\nsearch result:{result}\"\n",
    "            }\n",
    "        ]\n",
    "    )\n",
    "    return response.choices[0].message.content"
   ]
  },
  {
   "cell_type": "code",
   "execution_count": 21,
   "id": "a0c81b30-81fd-49ee-b0e2-383613b50833",
   "metadata": {},
   "outputs": [
    {
     "data": {
      "text/plain": [
       "'Fake'"
      ]
     },
     "execution_count": 21,
     "metadata": {},
     "output_type": "execute_result"
    }
   ],
   "source": [
    "# Test\n",
    "test = fake_news_detect(sampled_df['title'][0], sampled_df['text'][0])\n",
    "test"
   ]
  },
  {
   "cell_type": "markdown",
   "id": "8eac1651-d327-4bf7-98bf-9c52aa632a8a",
   "metadata": {},
   "source": [
    "## Prediction"
   ]
  },
  {
   "cell_type": "code",
   "execution_count": 16,
   "id": "8ff5cb3b-8a4b-429c-8b33-f7e0f121bbe5",
   "metadata": {},
   "outputs": [],
   "source": [
    "label_llm = []\n",
    "\n",
    "for i in range(len(sampled_df)):\n",
    "    result = fake_news_detect(sampled_df['title'][i], sampled_df['text'][i])\n",
    "    label_llm.append(result)\n",
    "\n",
    "sampled_df['label_llm'] = label_llm"
   ]
  },
  {
   "cell_type": "code",
   "execution_count": 22,
   "id": "c2e940b1-6e87-4576-84af-ee6a969f5247",
   "metadata": {
    "scrolled": true
   },
   "outputs": [],
   "source": [
    "label_rag = []\n",
    "\n",
    "for i in range(len(sampled_df)):\n",
    "    result = fake_news_detect_rag(sampled_df['title'][i], sampled_df['text'][i])\n",
    "    label_rag.append(result)\n",
    "    \n",
    "\n",
    "sampled_df['label_rag'] = label_rag"
   ]
  },
  {
   "cell_type": "code",
   "execution_count": 6,
   "id": "45ba9033-5b29-4354-971b-9a9e5aace1f9",
   "metadata": {
    "scrolled": true
   },
   "outputs": [
    {
     "data": {
      "text/html": [
       "<div>\n",
       "<style scoped>\n",
       "    .dataframe tbody tr th:only-of-type {\n",
       "        vertical-align: middle;\n",
       "    }\n",
       "\n",
       "    .dataframe tbody tr th {\n",
       "        vertical-align: top;\n",
       "    }\n",
       "\n",
       "    .dataframe thead th {\n",
       "        text-align: right;\n",
       "    }\n",
       "</style>\n",
       "<table border=\"1\" class=\"dataframe\">\n",
       "  <thead>\n",
       "    <tr style=\"text-align: right;\">\n",
       "      <th></th>\n",
       "      <th>Unnamed: 0</th>\n",
       "      <th>title</th>\n",
       "      <th>text</th>\n",
       "      <th>label</th>\n",
       "      <th>label_llm</th>\n",
       "      <th>label_rag</th>\n",
       "    </tr>\n",
       "  </thead>\n",
       "  <tbody>\n",
       "    <tr>\n",
       "      <th>0</th>\n",
       "      <td>8215</td>\n",
       "      <td>REPORT: Chaos Reigns Inside The White House A...</td>\n",
       "      <td>Donald Trump can t handle the complexity of ru...</td>\n",
       "      <td>0</td>\n",
       "      <td>0</td>\n",
       "      <td>1</td>\n",
       "    </tr>\n",
       "    <tr>\n",
       "      <th>1</th>\n",
       "      <td>4034</td>\n",
       "      <td>Exclusive: U.S. to renew most Myanmar sanction...</td>\n",
       "      <td>WASHINGTON (Reuters) - The United States plans...</td>\n",
       "      <td>1</td>\n",
       "      <td>0</td>\n",
       "      <td>0</td>\n",
       "    </tr>\n",
       "    <tr>\n",
       "      <th>2</th>\n",
       "      <td>3011</td>\n",
       "      <td>Anti-Trump Protester Surrounded By Mexican Fla...</td>\n",
       "      <td>It was actually refreshing to see the cops fig...</td>\n",
       "      <td>0</td>\n",
       "      <td>0</td>\n",
       "      <td>0</td>\n",
       "    </tr>\n",
       "    <tr>\n",
       "      <th>3</th>\n",
       "      <td>2151</td>\n",
       "      <td>At least 12 dead in bus crash on excursion to ...</td>\n",
       "      <td>MEXICO CITY (Reuters) - Twelve people died and...</td>\n",
       "      <td>1</td>\n",
       "      <td>1</td>\n",
       "      <td>0</td>\n",
       "    </tr>\n",
       "    <tr>\n",
       "      <th>4</th>\n",
       "      <td>5588</td>\n",
       "      <td>Fight over electoral district boundaries heads...</td>\n",
       "      <td>WASHINGTON (Reuters) - It is a political pract...</td>\n",
       "      <td>1</td>\n",
       "      <td>0</td>\n",
       "      <td>1</td>\n",
       "    </tr>\n",
       "    <tr>\n",
       "      <th>5</th>\n",
       "      <td>9481</td>\n",
       "      <td>Huge blast in China's Ningbo city kills at lea...</td>\n",
       "      <td>BEIJING (Reuters) - A powerful explosion in a ...</td>\n",
       "      <td>1</td>\n",
       "      <td>1</td>\n",
       "      <td>0</td>\n",
       "    </tr>\n",
       "    <tr>\n",
       "      <th>6</th>\n",
       "      <td>15122</td>\n",
       "      <td>‘Might Have Been Faked By Liberals’: Top Advi...</td>\n",
       "      <td>I mean, that headline, right? Did someone actu...</td>\n",
       "      <td>0</td>\n",
       "      <td>0</td>\n",
       "      <td>1</td>\n",
       "    </tr>\n",
       "    <tr>\n",
       "      <th>7</th>\n",
       "      <td>5238</td>\n",
       "      <td>Wife of Chechen accused of Putin assassination...</td>\n",
       "      <td>KIEV (Reuters) - The Ukrainian wife of a Chech...</td>\n",
       "      <td>1</td>\n",
       "      <td>1</td>\n",
       "      <td>0</td>\n",
       "    </tr>\n",
       "    <tr>\n",
       "      <th>8</th>\n",
       "      <td>10870</td>\n",
       "      <td>Hillary SHUTS DOWN Trump Supporters Calling H...</td>\n",
       "      <td>Ever since Donald Trump got exposed through an...</td>\n",
       "      <td>0</td>\n",
       "      <td>0</td>\n",
       "      <td>1</td>\n",
       "    </tr>\n",
       "    <tr>\n",
       "      <th>9</th>\n",
       "      <td>21224</td>\n",
       "      <td>Saudi king says kingdom has made progress in t...</td>\n",
       "      <td>MECCA, Saudi Arabia (Reuters) - Saudi King Sal...</td>\n",
       "      <td>1</td>\n",
       "      <td>1</td>\n",
       "      <td>0</td>\n",
       "    </tr>\n",
       "    <tr>\n",
       "      <th>10</th>\n",
       "      <td>2137</td>\n",
       "      <td>This NRA Radio Host Just Likened Dems Fightin...</td>\n",
       "      <td>The Republican Party s response to making Amer...</td>\n",
       "      <td>0</td>\n",
       "      <td>1</td>\n",
       "      <td>0</td>\n",
       "    </tr>\n",
       "    <tr>\n",
       "      <th>11</th>\n",
       "      <td>10738</td>\n",
       "      <td>The Leaker-In-Chief Just Tweeted Classified I...</td>\n",
       "      <td>We sure Attorney General Jeff Sessions will be...</td>\n",
       "      <td>0</td>\n",
       "      <td>0</td>\n",
       "      <td>1</td>\n",
       "    </tr>\n",
       "    <tr>\n",
       "      <th>12</th>\n",
       "      <td>16218</td>\n",
       "      <td>EARLY VOTING UPDATE: “Record Turnout! They’re ...</td>\n",
       "      <td>There s no way to sample this extra 20 or 25%...</td>\n",
       "      <td>0</td>\n",
       "      <td>0</td>\n",
       "      <td>0</td>\n",
       "    </tr>\n",
       "    <tr>\n",
       "      <th>13</th>\n",
       "      <td>351</td>\n",
       "      <td>Netanyahu asks Trump to recognize Israeli sove...</td>\n",
       "      <td>WASHINGTON (Reuters) - Israeli Prime Minister ...</td>\n",
       "      <td>1</td>\n",
       "      <td>1</td>\n",
       "      <td>1</td>\n",
       "    </tr>\n",
       "    <tr>\n",
       "      <th>14</th>\n",
       "      <td>24112</td>\n",
       "      <td>Republican Senator Gets Dragged For Going Aft...</td>\n",
       "      <td>Senate Majority Whip John Cornyn (R-TX) though...</td>\n",
       "      <td>0</td>\n",
       "      <td>0</td>\n",
       "      <td>0</td>\n",
       "    </tr>\n",
       "    <tr>\n",
       "      <th>15</th>\n",
       "      <td>16291</td>\n",
       "      <td>Hawaii judge halts Trump's new travel ban befo...</td>\n",
       "      <td>HONOLULU/NEW YORK (Reuters) - Just hours befor...</td>\n",
       "      <td>1</td>\n",
       "      <td>1</td>\n",
       "      <td>0</td>\n",
       "    </tr>\n",
       "    <tr>\n",
       "      <th>16</th>\n",
       "      <td>4507</td>\n",
       "      <td>Here’s The List Of Items Trump Banned From In...</td>\n",
       "      <td>Remember when the National Rifle Association w...</td>\n",
       "      <td>0</td>\n",
       "      <td>0</td>\n",
       "      <td>0</td>\n",
       "    </tr>\n",
       "    <tr>\n",
       "      <th>17</th>\n",
       "      <td>1324</td>\n",
       "      <td>Britain becoming U.S. vassal state, says Frenc...</td>\n",
       "      <td>PARIS (Reuters) - Britain is becoming subservi...</td>\n",
       "      <td>1</td>\n",
       "      <td>0</td>\n",
       "      <td>0</td>\n",
       "    </tr>\n",
       "    <tr>\n",
       "      <th>18</th>\n",
       "      <td>5966</td>\n",
       "      <td>WATCH: ANTI-GUN CRUSADER KATIE COURIC Intentio...</td>\n",
       "      <td>We ve said it before, Katie Couric is a wolf i...</td>\n",
       "      <td>0</td>\n",
       "      <td>0</td>\n",
       "      <td>1</td>\n",
       "    </tr>\n",
       "    <tr>\n",
       "      <th>19</th>\n",
       "      <td>10001</td>\n",
       "      <td>U.S. defense chief: White House shakeup will n...</td>\n",
       "      <td>BRUSSELS (Reuters) - U.S. Defense Secretary Ji...</td>\n",
       "      <td>1</td>\n",
       "      <td>1</td>\n",
       "      <td>1</td>\n",
       "    </tr>\n",
       "  </tbody>\n",
       "</table>\n",
       "</div>"
      ],
      "text/plain": [
       "    Unnamed: 0                                              title  \\\n",
       "0         8215   REPORT: Chaos Reigns Inside The White House A...   \n",
       "1         4034  Exclusive: U.S. to renew most Myanmar sanction...   \n",
       "2         3011  Anti-Trump Protester Surrounded By Mexican Fla...   \n",
       "3         2151  At least 12 dead in bus crash on excursion to ...   \n",
       "4         5588  Fight over electoral district boundaries heads...   \n",
       "5         9481  Huge blast in China's Ningbo city kills at lea...   \n",
       "6        15122   ‘Might Have Been Faked By Liberals’: Top Advi...   \n",
       "7         5238  Wife of Chechen accused of Putin assassination...   \n",
       "8        10870   Hillary SHUTS DOWN Trump Supporters Calling H...   \n",
       "9        21224  Saudi king says kingdom has made progress in t...   \n",
       "10        2137   This NRA Radio Host Just Likened Dems Fightin...   \n",
       "11       10738   The Leaker-In-Chief Just Tweeted Classified I...   \n",
       "12       16218  EARLY VOTING UPDATE: “Record Turnout! They’re ...   \n",
       "13         351  Netanyahu asks Trump to recognize Israeli sove...   \n",
       "14       24112   Republican Senator Gets Dragged For Going Aft...   \n",
       "15       16291  Hawaii judge halts Trump's new travel ban befo...   \n",
       "16        4507   Here’s The List Of Items Trump Banned From In...   \n",
       "17        1324  Britain becoming U.S. vassal state, says Frenc...   \n",
       "18        5966  WATCH: ANTI-GUN CRUSADER KATIE COURIC Intentio...   \n",
       "19       10001  U.S. defense chief: White House shakeup will n...   \n",
       "\n",
       "                                                 text  label  label_llm  \\\n",
       "0   Donald Trump can t handle the complexity of ru...      0          0   \n",
       "1   WASHINGTON (Reuters) - The United States plans...      1          0   \n",
       "2   It was actually refreshing to see the cops fig...      0          0   \n",
       "3   MEXICO CITY (Reuters) - Twelve people died and...      1          1   \n",
       "4   WASHINGTON (Reuters) - It is a political pract...      1          0   \n",
       "5   BEIJING (Reuters) - A powerful explosion in a ...      1          1   \n",
       "6   I mean, that headline, right? Did someone actu...      0          0   \n",
       "7   KIEV (Reuters) - The Ukrainian wife of a Chech...      1          1   \n",
       "8   Ever since Donald Trump got exposed through an...      0          0   \n",
       "9   MECCA, Saudi Arabia (Reuters) - Saudi King Sal...      1          1   \n",
       "10  The Republican Party s response to making Amer...      0          1   \n",
       "11  We sure Attorney General Jeff Sessions will be...      0          0   \n",
       "12   There s no way to sample this extra 20 or 25%...      0          0   \n",
       "13  WASHINGTON (Reuters) - Israeli Prime Minister ...      1          1   \n",
       "14  Senate Majority Whip John Cornyn (R-TX) though...      0          0   \n",
       "15  HONOLULU/NEW YORK (Reuters) - Just hours befor...      1          1   \n",
       "16  Remember when the National Rifle Association w...      0          0   \n",
       "17  PARIS (Reuters) - Britain is becoming subservi...      1          0   \n",
       "18  We ve said it before, Katie Couric is a wolf i...      0          0   \n",
       "19  BRUSSELS (Reuters) - U.S. Defense Secretary Ji...      1          1   \n",
       "\n",
       "    label_rag  \n",
       "0           1  \n",
       "1           0  \n",
       "2           0  \n",
       "3           0  \n",
       "4           1  \n",
       "5           0  \n",
       "6           1  \n",
       "7           0  \n",
       "8           1  \n",
       "9           0  \n",
       "10          0  \n",
       "11          1  \n",
       "12          0  \n",
       "13          1  \n",
       "14          0  \n",
       "15          0  \n",
       "16          0  \n",
       "17          0  \n",
       "18          1  \n",
       "19          1  "
      ]
     },
     "execution_count": 6,
     "metadata": {},
     "output_type": "execute_result"
    }
   ],
   "source": [
    "sampled_df.head(20)"
   ]
  },
  {
   "cell_type": "markdown",
   "id": "ed8b5402-c07d-453b-98c0-f947a984143b",
   "metadata": {},
   "source": [
    "## IF you want to skip LLM APIs.."
   ]
  },
  {
   "cell_type": "code",
   "execution_count": 2,
   "id": "fc33af35-9071-46d3-8e1b-1dc003285078",
   "metadata": {},
   "outputs": [
    {
     "data": {
      "text/html": [
       "<div>\n",
       "<style scoped>\n",
       "    .dataframe tbody tr th:only-of-type {\n",
       "        vertical-align: middle;\n",
       "    }\n",
       "\n",
       "    .dataframe tbody tr th {\n",
       "        vertical-align: top;\n",
       "    }\n",
       "\n",
       "    .dataframe thead th {\n",
       "        text-align: right;\n",
       "    }\n",
       "</style>\n",
       "<table border=\"1\" class=\"dataframe\">\n",
       "  <thead>\n",
       "    <tr style=\"text-align: right;\">\n",
       "      <th></th>\n",
       "      <th>Unnamed: 0</th>\n",
       "      <th>title</th>\n",
       "      <th>text</th>\n",
       "      <th>label</th>\n",
       "      <th>label_llm</th>\n",
       "      <th>label_rag</th>\n",
       "    </tr>\n",
       "  </thead>\n",
       "  <tbody>\n",
       "    <tr>\n",
       "      <th>0</th>\n",
       "      <td>8215</td>\n",
       "      <td>REPORT: Chaos Reigns Inside The White House A...</td>\n",
       "      <td>Donald Trump can t handle the complexity of ru...</td>\n",
       "      <td>0</td>\n",
       "      <td>Fake</td>\n",
       "      <td>Real</td>\n",
       "    </tr>\n",
       "    <tr>\n",
       "      <th>1</th>\n",
       "      <td>4034</td>\n",
       "      <td>Exclusive: U.S. to renew most Myanmar sanction...</td>\n",
       "      <td>WASHINGTON (Reuters) - The United States plans...</td>\n",
       "      <td>1</td>\n",
       "      <td>Fake</td>\n",
       "      <td>fake</td>\n",
       "    </tr>\n",
       "    <tr>\n",
       "      <th>2</th>\n",
       "      <td>3011</td>\n",
       "      <td>Anti-Trump Protester Surrounded By Mexican Fla...</td>\n",
       "      <td>It was actually refreshing to see the cops fig...</td>\n",
       "      <td>0</td>\n",
       "      <td>Fake</td>\n",
       "      <td>Fake</td>\n",
       "    </tr>\n",
       "    <tr>\n",
       "      <th>3</th>\n",
       "      <td>2151</td>\n",
       "      <td>At least 12 dead in bus crash on excursion to ...</td>\n",
       "      <td>MEXICO CITY (Reuters) - Twelve people died and...</td>\n",
       "      <td>1</td>\n",
       "      <td>Real</td>\n",
       "      <td>Fake</td>\n",
       "    </tr>\n",
       "    <tr>\n",
       "      <th>4</th>\n",
       "      <td>5588</td>\n",
       "      <td>Fight over electoral district boundaries heads...</td>\n",
       "      <td>WASHINGTON (Reuters) - It is a political pract...</td>\n",
       "      <td>1</td>\n",
       "      <td>Fake</td>\n",
       "      <td>real</td>\n",
       "    </tr>\n",
       "  </tbody>\n",
       "</table>\n",
       "</div>"
      ],
      "text/plain": [
       "   Unnamed: 0                                              title  \\\n",
       "0        8215   REPORT: Chaos Reigns Inside The White House A...   \n",
       "1        4034  Exclusive: U.S. to renew most Myanmar sanction...   \n",
       "2        3011  Anti-Trump Protester Surrounded By Mexican Fla...   \n",
       "3        2151  At least 12 dead in bus crash on excursion to ...   \n",
       "4        5588  Fight over electoral district boundaries heads...   \n",
       "\n",
       "                                                text  label label_llm  \\\n",
       "0  Donald Trump can t handle the complexity of ru...      0      Fake   \n",
       "1  WASHINGTON (Reuters) - The United States plans...      1      Fake   \n",
       "2  It was actually refreshing to see the cops fig...      0      Fake   \n",
       "3  MEXICO CITY (Reuters) - Twelve people died and...      1      Real   \n",
       "4  WASHINGTON (Reuters) - It is a political pract...      1      Fake   \n",
       "\n",
       "  label_rag  \n",
       "0      Real  \n",
       "1      fake  \n",
       "2      Fake  \n",
       "3      Fake  \n",
       "4      real  "
      ]
     },
     "execution_count": 2,
     "metadata": {},
     "output_type": "execute_result"
    }
   ],
   "source": [
    "sampled_df = pd.read_csv('data/sampled_df.csv')\n",
    "sampled_df.head()"
   ]
  },
  {
   "cell_type": "markdown",
   "id": "a9640247-45cd-427f-9f22-72ce9b83e3e4",
   "metadata": {},
   "source": [
    "## Bootstraping Resampling"
   ]
  },
  {
   "cell_type": "code",
   "execution_count": 5,
   "id": "b857c992-d30b-49fb-acfa-e51acf731af1",
   "metadata": {},
   "outputs": [],
   "source": [
    "sampled_df['label_llm'] = sampled_df['label_llm'].replace({'Fake': 0, 'Real': 1})\n",
    "sampled_df['label_rag'] = sampled_df['label_rag'].replace({'Fake': 0, 'fake' : 0, 'Real': 1, 'real' :1,})"
   ]
  },
  {
   "cell_type": "code",
   "execution_count": 7,
   "id": "a7566f1c-8392-4a7f-a884-5407a8f074a5",
   "metadata": {},
   "outputs": [],
   "source": [
    "results = []\n",
    "for i in range(1000):\n",
    "    sample = sampled_df.sample(10, random_state = i)\n",
    "    score = 0\n",
    "    better = 0\n",
    "    for j in range(len(sample)):\n",
    "        if sample['label'].iloc[j] == sample['label_llm'].iloc[j] and sample['label'].iloc[j] != sample['label_rag'].iloc[j]:\n",
    "            score -= 1\n",
    "        elif sample['label'].iloc[j] != sample['label_llm'].iloc[j] and sample['label'].iloc[j] == sample['label_rag'].iloc[j]:\n",
    "            score += 1\n",
    "    if score > 0: better += 1\n",
    "    results.append({'sample': i + 1, 'sum': score, 'better': better})\n",
    "bootstrap = pd.DataFrame(results)"
   ]
  },
  {
   "cell_type": "code",
   "execution_count": 8,
   "id": "996b9eb2-38f4-4e6e-9b29-59d66edc7184",
   "metadata": {},
   "outputs": [
    {
     "data": {
      "text/html": [
       "<div>\n",
       "<style scoped>\n",
       "    .dataframe tbody tr th:only-of-type {\n",
       "        vertical-align: middle;\n",
       "    }\n",
       "\n",
       "    .dataframe tbody tr th {\n",
       "        vertical-align: top;\n",
       "    }\n",
       "\n",
       "    .dataframe thead th {\n",
       "        text-align: right;\n",
       "    }\n",
       "</style>\n",
       "<table border=\"1\" class=\"dataframe\">\n",
       "  <thead>\n",
       "    <tr style=\"text-align: right;\">\n",
       "      <th></th>\n",
       "      <th>sample</th>\n",
       "      <th>sum</th>\n",
       "      <th>better</th>\n",
       "    </tr>\n",
       "  </thead>\n",
       "  <tbody>\n",
       "    <tr>\n",
       "      <th>0</th>\n",
       "      <td>1</td>\n",
       "      <td>-5</td>\n",
       "      <td>0</td>\n",
       "    </tr>\n",
       "    <tr>\n",
       "      <th>1</th>\n",
       "      <td>2</td>\n",
       "      <td>-4</td>\n",
       "      <td>0</td>\n",
       "    </tr>\n",
       "    <tr>\n",
       "      <th>2</th>\n",
       "      <td>3</td>\n",
       "      <td>0</td>\n",
       "      <td>0</td>\n",
       "    </tr>\n",
       "    <tr>\n",
       "      <th>3</th>\n",
       "      <td>4</td>\n",
       "      <td>-4</td>\n",
       "      <td>0</td>\n",
       "    </tr>\n",
       "    <tr>\n",
       "      <th>4</th>\n",
       "      <td>5</td>\n",
       "      <td>-5</td>\n",
       "      <td>0</td>\n",
       "    </tr>\n",
       "    <tr>\n",
       "      <th>5</th>\n",
       "      <td>6</td>\n",
       "      <td>-2</td>\n",
       "      <td>0</td>\n",
       "    </tr>\n",
       "    <tr>\n",
       "      <th>6</th>\n",
       "      <td>7</td>\n",
       "      <td>-1</td>\n",
       "      <td>0</td>\n",
       "    </tr>\n",
       "    <tr>\n",
       "      <th>7</th>\n",
       "      <td>8</td>\n",
       "      <td>-4</td>\n",
       "      <td>0</td>\n",
       "    </tr>\n",
       "    <tr>\n",
       "      <th>8</th>\n",
       "      <td>9</td>\n",
       "      <td>-6</td>\n",
       "      <td>0</td>\n",
       "    </tr>\n",
       "    <tr>\n",
       "      <th>9</th>\n",
       "      <td>10</td>\n",
       "      <td>-2</td>\n",
       "      <td>0</td>\n",
       "    </tr>\n",
       "    <tr>\n",
       "      <th>10</th>\n",
       "      <td>11</td>\n",
       "      <td>-3</td>\n",
       "      <td>0</td>\n",
       "    </tr>\n",
       "    <tr>\n",
       "      <th>11</th>\n",
       "      <td>12</td>\n",
       "      <td>-7</td>\n",
       "      <td>0</td>\n",
       "    </tr>\n",
       "    <tr>\n",
       "      <th>12</th>\n",
       "      <td>13</td>\n",
       "      <td>-6</td>\n",
       "      <td>0</td>\n",
       "    </tr>\n",
       "    <tr>\n",
       "      <th>13</th>\n",
       "      <td>14</td>\n",
       "      <td>-8</td>\n",
       "      <td>0</td>\n",
       "    </tr>\n",
       "    <tr>\n",
       "      <th>14</th>\n",
       "      <td>15</td>\n",
       "      <td>-4</td>\n",
       "      <td>0</td>\n",
       "    </tr>\n",
       "    <tr>\n",
       "      <th>15</th>\n",
       "      <td>16</td>\n",
       "      <td>-5</td>\n",
       "      <td>0</td>\n",
       "    </tr>\n",
       "    <tr>\n",
       "      <th>16</th>\n",
       "      <td>17</td>\n",
       "      <td>-5</td>\n",
       "      <td>0</td>\n",
       "    </tr>\n",
       "    <tr>\n",
       "      <th>17</th>\n",
       "      <td>18</td>\n",
       "      <td>-3</td>\n",
       "      <td>0</td>\n",
       "    </tr>\n",
       "    <tr>\n",
       "      <th>18</th>\n",
       "      <td>19</td>\n",
       "      <td>-8</td>\n",
       "      <td>0</td>\n",
       "    </tr>\n",
       "    <tr>\n",
       "      <th>19</th>\n",
       "      <td>20</td>\n",
       "      <td>0</td>\n",
       "      <td>0</td>\n",
       "    </tr>\n",
       "  </tbody>\n",
       "</table>\n",
       "</div>"
      ],
      "text/plain": [
       "    sample  sum  better\n",
       "0        1   -5       0\n",
       "1        2   -4       0\n",
       "2        3    0       0\n",
       "3        4   -4       0\n",
       "4        5   -5       0\n",
       "5        6   -2       0\n",
       "6        7   -1       0\n",
       "7        8   -4       0\n",
       "8        9   -6       0\n",
       "9       10   -2       0\n",
       "10      11   -3       0\n",
       "11      12   -7       0\n",
       "12      13   -6       0\n",
       "13      14   -8       0\n",
       "14      15   -4       0\n",
       "15      16   -5       0\n",
       "16      17   -5       0\n",
       "17      18   -3       0\n",
       "18      19   -8       0\n",
       "19      20    0       0"
      ]
     },
     "execution_count": 8,
     "metadata": {},
     "output_type": "execute_result"
    }
   ],
   "source": [
    "bootstrap.head(20)"
   ]
  },
  {
   "cell_type": "code",
   "execution_count": 9,
   "id": "29c55670-345c-4d17-8af1-85d7d56a3449",
   "metadata": {},
   "outputs": [
    {
     "data": {
      "text/plain": [
       "better\n",
       "0    972\n",
       "1     28\n",
       "Name: count, dtype: int64"
      ]
     },
     "execution_count": 9,
     "metadata": {},
     "output_type": "execute_result"
    }
   ],
   "source": [
    "bootstrap.value_counts('better')"
   ]
  },
  {
   "cell_type": "code",
   "execution_count": 10,
   "id": "b2b87898-bae1-4196-bf2f-a8c240066f2f",
   "metadata": {},
   "outputs": [
    {
     "data": {
      "text/plain": [
       "<Axes: xlabel='sum', ylabel='count'>"
      ]
     },
     "execution_count": 10,
     "metadata": {},
     "output_type": "execute_result"
    },
    {
     "data": {
      "image/png": "[encoded data removed]",
      "text/plain": [
       "<Figure size 640x480 with 1 Axes>"
      ]
     },
     "metadata": {},
     "output_type": "display_data"
    }
   ],
   "source": [
    "sns.countplot(data=bootstrap, x='sum')"
   ]
  },
  {
   "cell_type": "markdown",
   "id": "027169cf-a2e9-4d2d-9120-71db5c5b2ff6",
   "metadata": {},
   "source": [
    "## Evaluation"
   ]
  },
  {
   "cell_type": "code",
   "execution_count": 49,
   "id": "1fbe62fe-dfc2-4d3a-9c88-23f3902e5cb3",
   "metadata": {},
   "outputs": [],
   "source": [
    "accuracy_llm = accuracy_score(sampled_df['label'],sampled_df['label_llm'])\n",
    "f1_llm = f1_score(sampled_df['label'],sampled_df['label_llm'])\n",
    "accuracy_rag = accuracy_score(sampled_df['label'],sampled_df['label_rag'])\n",
    "f1_rag = f1_score(sampled_df['label'],sampled_df['label_rag'])"
   ]
  },
  {
   "cell_type": "code",
   "execution_count": 51,
   "id": "ff245e9a-2527-43b2-a302-645e5467fced",
   "metadata": {},
   "outputs": [
    {
     "name": "stdout",
     "output_type": "stream",
     "text": [
      "Baseline Model\n",
      "Accuracy: 0.8460\n",
      "F1 Score: 0.8432\n",
      "\n",
      "Experimental Model\n",
      "Accuracy: 0.5160\n",
      "F1 Score: 0.5399\n"
     ]
    }
   ],
   "source": [
    "print(f\"Baseline Model\\nAccuracy: {accuracy_llm:.4f}\\nF1 Score: {f1_llm:.4f}\\n\\nExperimental Model\\nAccuracy: {accuracy_rag:.4f}\\nF1 Score: {f1_rag:.4f}\")"
   ]
  }
 ],
 "metadata": {
  "kernelspec": {
   "display_name": "Python 3 (ipykernel)",
   "language": "python",
   "name": "python3"
  },
  "language_info": {
   "codemirror_mode": {
    "name": "ipython",
    "version": 3
   },
   "file_extension": ".py",
   "mimetype": "text/x-python",
   "name": "python",
   "nbconvert_exporter": "python",
   "pygments_lexer": "ipython3",
   "version": "3.11.5"
  }
 },
 "nbformat": 4,
 "nbformat_minor": 5
}
