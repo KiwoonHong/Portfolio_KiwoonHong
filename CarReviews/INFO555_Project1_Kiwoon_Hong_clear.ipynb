{
  "nbformat": 4,
  "nbformat_minor": 0,
  "metadata": {
    "colab": {
      "provenance": [],
      "gpuType": "T4"
    },
    "kernelspec": {
      "name": "python3",
      "display_name": "Python 3"
    },
    "language_info": {
      "name": "python"
    },
    "accelerator": "GPU"
  },
  "cells": [
    {
      "cell_type": "markdown",
      "source": [
        "## Import Libraries"
      ],
      "metadata": {
        "id": "bsBFi04IbGft"
      }
    },
    {
      "cell_type": "code",
      "source": [
        "!pip install --upgrade huggingface_hub\n",
        "!pip install datasets"
      ],
      "metadata": {
        "id": "wRJybqlmeQ6F",
        "collapsed": true
      },
      "execution_count": null,
      "outputs": []
    },
    {
      "cell_type": "code",
      "execution_count": null,
      "metadata": {
        "id": "lEMkrlA4aZCO"
      },
      "outputs": [],
      "source": [
        "from transformers import pipeline\n",
        "import pandas as pd\n",
        "from sklearn.metrics import confusion_matrix\n",
        "\n",
        "from datasets import load_dataset, Dataset"
      ]
    },
    {
      "cell_type": "markdown",
      "source": [
        "## Load Dataset"
      ],
      "metadata": {
        "id": "8Fv416nmbRXq"
      }
    },
    {
      "cell_type": "code",
      "source": [
        "### START OF CODE FROM EXTERNAL SOURCE (URL: https://huggingface.co/datasets/florentgbelidji/car-reviews)\n",
        "ds = load_dataset(\"florentgbelidji/car-reviews\")\n",
        "### END OF CODE FROM EXTERNAL SOURCE (URL: https://huggingface.co/datasets/florentgbelidji/car-reviews)"
      ],
      "metadata": {
        "id": "4pfW4mg1bB5W",
        "collapsed": true
      },
      "execution_count": null,
      "outputs": []
    },
    {
      "cell_type": "markdown",
      "source": [
        "## EDA"
      ],
      "metadata": {
        "id": "5Me2D05JfmX2"
      }
    },
    {
      "cell_type": "code",
      "source": [
        "ds['train'][10]"
      ],
      "metadata": {
        "id": "xhhQC8ROgEzS"
      },
      "execution_count": null,
      "outputs": []
    },
    {
      "cell_type": "code",
      "source": [
        "reviews = ds['train']['Review']"
      ],
      "metadata": {
        "id": "MJACgh4wfkgM"
      },
      "execution_count": null,
      "outputs": []
    },
    {
      "cell_type": "code",
      "source": [
        "reviews[10]"
      ],
      "metadata": {
        "id": "1OD7hmqah7Ms"
      },
      "execution_count": null,
      "outputs": []
    },
    {
      "cell_type": "markdown",
      "source": [
        "## Model 1 - Transformers"
      ],
      "metadata": {
        "id": "wMUkxMjOiyYL"
      }
    },
    {
      "cell_type": "markdown",
      "source": [
        "### Balanced Sampling"
      ],
      "metadata": {
        "id": "c0aAE1WDhjaB"
      }
    },
    {
      "cell_type": "code",
      "source": [
        "df = pd.DataFrame(ds['train'])"
      ],
      "metadata": {
        "id": "EcsZadVghl_X"
      },
      "execution_count": null,
      "outputs": []
    },
    {
      "cell_type": "code",
      "source": [
        "min_samples = df['Rating'].value_counts().min()\n",
        "print(min_samples)"
      ],
      "metadata": {
        "id": "wC4DoXsxnVae"
      },
      "execution_count": null,
      "outputs": []
    },
    {
      "cell_type": "code",
      "source": [
        "balanced_df = df.groupby('Rating').apply(lambda x: x.sample(min_samples))"
      ],
      "metadata": {
        "id": "jg32OH-WkE4D",
        "collapsed": true
      },
      "execution_count": null,
      "outputs": []
    },
    {
      "cell_type": "code",
      "source": [
        "sampled_dataset = Dataset.from_pandas(balanced_df)"
      ],
      "metadata": {
        "id": "JEGYWsfsovHF"
      },
      "execution_count": null,
      "outputs": []
    },
    {
      "cell_type": "markdown",
      "source": [
        "### Filtering Negative Feedbacks"
      ],
      "metadata": {
        "id": "P-1UpnCqjCsG"
      }
    },
    {
      "cell_type": "markdown",
      "source": [
        "#### Sentiment Analysis Model 1"
      ],
      "metadata": {
        "id": "Ww4OWDJtwMZM"
      }
    },
    {
      "cell_type": "code",
      "source": [
        "### START OF CODE FROM EXTERNAL SOURCE (URL:https://huggingface.co/learn/nlp-course/chapter1/3?fw=pt)\n",
        "sentiment_classifier = pipeline(\"sentiment-analysis\", device=0)"
      ],
      "metadata": {
        "collapsed": true,
        "id": "YUT3AdXljWri"
      },
      "execution_count": null,
      "outputs": []
    },
    {
      "cell_type": "code",
      "source": [
        "SA = sentiment_classifier(sampled_dataset['Review'], truncation=True)\n",
        "### END OF CODE FROM EXTERNAL SOURCE (URL:https://huggingface.co/learn/nlp-course/chapter1/3?fw=pt)"
      ],
      "metadata": {
        "id": "q5LSeWU5nU8t"
      },
      "execution_count": null,
      "outputs": []
    },
    {
      "cell_type": "code",
      "source": [
        "SA"
      ],
      "metadata": {
        "collapsed": true,
        "id": "d2DnQJPeo31x"
      },
      "execution_count": null,
      "outputs": []
    },
    {
      "cell_type": "code",
      "source": [
        "negative_reviews = []\n",
        "for review, result in zip(sampled_dataset['Review'], SA):\n",
        "    if result['label'] == 'NEGATIVE' and result['score'] >= 0.8:\n",
        "        negative_reviews.append(review)"
      ],
      "metadata": {
        "id": "4sFbQVXus2QX"
      },
      "execution_count": null,
      "outputs": []
    },
    {
      "cell_type": "code",
      "source": [
        "negative_reviews"
      ],
      "metadata": {
        "collapsed": true,
        "id": "4eWO1Gg4tLNe"
      },
      "execution_count": null,
      "outputs": []
    },
    {
      "cell_type": "markdown",
      "source": [
        "#### Sentiment Analysis Model 2"
      ],
      "metadata": {
        "id": "wQamMGv_wXUt"
      }
    },
    {
      "cell_type": "code",
      "source": [
        "### START OF CODE FROM EXTERNAL SOURCE (URL:https://huggingface.co/cardiffnlp/twitter-roberta-base-sentiment-latest)\n",
        "sentiment_classifier_2 = pipeline(\"text-classification\", model=\"cardiffnlp/twitter-roberta-base-sentiment-latest\", batch_size=4, device=0)"
      ],
      "metadata": {
        "id": "HTAK24Y3weFV",
        "collapsed": true
      },
      "execution_count": null,
      "outputs": []
    },
    {
      "cell_type": "code",
      "source": [
        "SA2 = sentiment_classifier_2(sampled_dataset['Review'], truncation=True, max_length=512)\n",
        "### END OF CODE FROM EXTERNAL SOURCE (URL:https://huggingface.co/cardiffnlp/twitter-roberta-base-sentiment-latest)"
      ],
      "metadata": {
        "id": "Et1gL-yhwtLQ"
      },
      "execution_count": null,
      "outputs": []
    },
    {
      "cell_type": "code",
      "source": [
        "SA2"
      ],
      "metadata": {
        "id": "N0Gx5e_Gw15I",
        "collapsed": true
      },
      "execution_count": null,
      "outputs": []
    },
    {
      "cell_type": "code",
      "source": [
        "negative_reviews2 = []\n",
        "for review, result in zip(sampled_dataset['Review'], SA2):\n",
        "    if result['label'] == 'NEGATIVE' and result['score'] >= 0.8:\n",
        "        negative_reviews2.append(review)"
      ],
      "metadata": {
        "id": "cXjGSg9axROU"
      },
      "execution_count": null,
      "outputs": []
    },
    {
      "cell_type": "code",
      "source": [
        "negative_reviews2"
      ],
      "metadata": {
        "id": "dMEVX6L4xRZz"
      },
      "execution_count": null,
      "outputs": []
    },
    {
      "cell_type": "markdown",
      "source": [
        "### Zero-Shot Classification"
      ],
      "metadata": {
        "id": "CelMnkjMtt8P"
      }
    },
    {
      "cell_type": "code",
      "source": [
        "### START OF CODE FROM EXTERNAL SOURCE (URL:https://huggingface.co/facebook/bart-large-mnli)\n",
        "zeroshot_classifier = pipeline(\"zero-shot-classification\", model=\"facebook/bart-large-mnli\", device=0, batch_size=16)"
      ],
      "metadata": {
        "collapsed": true,
        "id": "ZK63polbt6oe"
      },
      "execution_count": null,
      "outputs": []
    },
    {
      "cell_type": "code",
      "source": [
        "candidate_labels=[\"performance\", \"efficiency \", \"safety\", \"comfort\", \"design\", \"price\", \"service\"]"
      ],
      "metadata": {
        "id": "WMj46AZjuYRV"
      },
      "execution_count": null,
      "outputs": []
    },
    {
      "cell_type": "code",
      "source": [
        "ZC = zeroshot_classifier(negative_reviews, candidate_labels, truncation=True, multi_label=True)\n",
        "### START OF CODE FROM EXTERNAL SOURCE (URL:https://huggingface.co/facebook/bart-large-mnli)"
      ],
      "metadata": {
        "id": "9M_dl3mgwZNz"
      },
      "execution_count": null,
      "outputs": []
    },
    {
      "cell_type": "code",
      "source": [
        "ZC"
      ],
      "metadata": {
        "id": "1fgmhipytlpO",
        "collapsed": true
      },
      "execution_count": null,
      "outputs": []
    },
    {
      "cell_type": "code",
      "source": [
        "categories1 = [result['labels'][0] for result in ZC]\n",
        "scores1 = [result['scores'][0] for result in ZC]\n",
        "categories2 = [result['labels'][1] for result in ZC]\n",
        "scores2 = [result['scores'][1] for result in ZC]\n",
        "negative_df = pd.DataFrame({\n",
        "    \"Text\": negative_reviews,\n",
        "    \"Category1\": categories1,\n",
        "    \"Score1\": scores1,\n",
        "    \"Category2\": categories2,\n",
        "    \"Score2\": scores2\n",
        "})\n",
        "negative_df"
      ],
      "metadata": {
        "id": "Zmlq63tS0svm",
        "collapsed": true
      },
      "execution_count": null,
      "outputs": []
    },
    {
      "cell_type": "code",
      "source": [
        "grouped1 = negative_df.groupby('Category1')\n",
        "result1 = grouped1.agg(Count=('Category1', 'size'), Average=('Score1', 'mean'))\n",
        "result1"
      ],
      "metadata": {
        "id": "sGR-Osvh9q-6",
        "collapsed": true
      },
      "execution_count": null,
      "outputs": []
    },
    {
      "cell_type": "code",
      "source": [
        "grouped2 = negative_df.groupby('Category2')\n",
        "result2 = grouped2.agg(Count=('Category2', 'size'), Average=('Score2', 'mean'))\n",
        "result2"
      ],
      "metadata": {
        "id": "y54BB58N0U7I",
        "collapsed": true
      },
      "execution_count": null,
      "outputs": []
    },
    {
      "cell_type": "markdown",
      "source": [
        "## Evaluation"
      ],
      "metadata": {
        "id": "6wykxIkncT8h"
      }
    },
    {
      "cell_type": "markdown",
      "source": [
        "### Evaluation - Sentiment Analysis Model 1"
      ],
      "metadata": {
        "id": "YvVDEvYJcbN-"
      }
    },
    {
      "cell_type": "code",
      "source": [
        "scores = [item['score'] for item in SA]\n",
        "print(max(scores),min(scores))"
      ],
      "metadata": {
        "id": "9SFOiqySj_lL"
      },
      "execution_count": null,
      "outputs": []
    },
    {
      "cell_type": "code",
      "source": [
        "predictions = []\n",
        "for result in SA:\n",
        "    score = result['score']\n",
        "    label = result['label']\n",
        "    if label == 'NEGATIVE':\n",
        "        rating = round(5 - score * 4)\n",
        "    else:\n",
        "        rating = round(score * 4 + 1)\n",
        "    predictions.append(rating)\n",
        "label = balanced_df['Rating']"
      ],
      "metadata": {
        "collapsed": true,
        "id": "bXOD7Y2vcX_y"
      },
      "execution_count": null,
      "outputs": []
    },
    {
      "cell_type": "code",
      "source": [
        "matrix = confusion_matrix(label, predictions)\n",
        "matrix"
      ],
      "metadata": {
        "id": "XtIfyC3meN4z"
      },
      "execution_count": null,
      "outputs": []
    },
    {
      "cell_type": "code",
      "source": [
        "SA_label = [result['label'] for result in SA]\n",
        "SA_score = [result['score'] for result in SA]\n",
        "SA_df = pd.DataFrame({\n",
        "    \"Text\": balanced_df['Review'],\n",
        "    \"Label\": SA_label,\n",
        "    \"Score\": SA_score,\n",
        "})\n",
        "SA_df"
      ],
      "metadata": {
        "id": "KegVigzC4VNb",
        "collapsed": true
      },
      "execution_count": null,
      "outputs": []
    },
    {
      "cell_type": "code",
      "source": [
        "sentiment_sample = SA_df.sample(n=20, random_state=97)\n",
        "sentiment_sample"
      ],
      "metadata": {
        "id": "RusvBBj-34dD"
      },
      "execution_count": null,
      "outputs": []
    },
    {
      "cell_type": "markdown",
      "source": [
        "### Evaluation - Sentiment Analysis Model 2"
      ],
      "metadata": {
        "id": "sR1x49ZHxD87"
      }
    },
    {
      "cell_type": "code",
      "source": [
        "scores2 = [item['score'] for item in SA2]\n",
        "print(max(scores2),min(scores2))"
      ],
      "metadata": {
        "id": "1uCnjg0JxBWL"
      },
      "execution_count": null,
      "outputs": []
    },
    {
      "cell_type": "code",
      "source": [
        "predictions2 = []\n",
        "for result in SA2:\n",
        "    score2 = result['score']\n",
        "    label2 = result['label']\n",
        "    if label2 == 'NEGATIVE':\n",
        "        rating2 = round(5 - score2 * 4)\n",
        "    elif label2 == 'POSITIVE':\n",
        "        rating2 = round(score2 * 4 + 1)\n",
        "    else:\n",
        "        rating2 = round((score2 - 0.3) / 0.7 * 4 + 1)\n",
        "    predictions2.append(rating2)\n",
        "label2 = balanced_df['Rating']"
      ],
      "metadata": {
        "id": "ZAKsBNq6xOKX"
      },
      "execution_count": null,
      "outputs": []
    },
    {
      "cell_type": "code",
      "source": [
        "matrix2 = confusion_matrix(label2, predictions2)\n",
        "matrix2"
      ],
      "metadata": {
        "id": "yCvkhD-LxuuX"
      },
      "execution_count": null,
      "outputs": []
    },
    {
      "cell_type": "code",
      "source": [
        "SA_label2 = [result['label'] for result in SA2]\n",
        "SA_scores2 = [result['score'] for result in SA2]\n",
        "SA_df2 = pd.DataFrame({\n",
        "    \"Text\": balanced_df['Review'],\n",
        "    \"Label\": SA_label2,\n",
        "    \"Score\": SA_scores2,\n",
        "})\n",
        "SA_df2"
      ],
      "metadata": {
        "id": "ADGtxgQ46Hev",
        "collapsed": true
      },
      "execution_count": null,
      "outputs": []
    },
    {
      "cell_type": "code",
      "source": [
        "sentiment_sample2 = SA_df2.sample(n=20, random_state=97)\n",
        "sentiment_sample2"
      ],
      "metadata": {
        "id": "sJj5SUaO37qS"
      },
      "execution_count": null,
      "outputs": []
    },
    {
      "cell_type": "markdown",
      "source": [
        "### Evaluation - Zero-Shot Classification"
      ],
      "metadata": {
        "id": "mTU1esHOe6DF"
      }
    },
    {
      "cell_type": "code",
      "source": [
        "negative_df_sample = negative_df.sample(n=20, random_state=97)\n",
        "negative_df_sample"
      ],
      "metadata": {
        "id": "zR0BgAhMe5gZ"
      },
      "execution_count": null,
      "outputs": []
    }
  ]
}